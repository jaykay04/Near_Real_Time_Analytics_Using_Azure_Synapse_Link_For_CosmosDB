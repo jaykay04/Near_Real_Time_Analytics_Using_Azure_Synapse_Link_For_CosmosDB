{
  "cells": [
    {
      "cell_type": "code",
      "source": [
        "# Read from Cosmos DB analytical store into a Spark DataFrame and display 10 rows from the DataFrame\n",
        "# To select a preferred list of regions in a multi-region Cosmos DB account, add .option(\"spark.cosmos.preferredRegions\", \"<Region1>,<Region2>\")\n",
        "\n",
        "df = spark.read\\\n",
        "    .format(\"cosmos.olap\")\\\n",
        "    .option(\"spark.synapse.linkedService\", \"ls_cosmos_db_synapse_project\")\\\n",
        "    .option(\"spark.cosmos.container\", \"heartbeat\")\\\n",
        "    .load()\n",
        "\n",
        "display(df.limit(10))"
      ],
      "outputs": [
        {
          "output_type": "display_data",
          "data": {
            "application/vnd.livy.statement-meta+json": {
              "spark_pool": "jksparkpool",
              "session_id": "5",
              "statement_id": 1,
              "state": "finished",
              "livy_statement_state": "available",
              "queued_time": "2023-04-07T15:42:37.1426926Z",
              "session_start_time": "2023-04-07T15:42:37.2001335Z",
              "execution_start_time": "2023-04-07T15:45:30.9329777Z",
              "execution_finish_time": "2023-04-07T15:46:06.8101127Z",
              "spark_jobs": null,
              "parent_msg_id": "720af251-778e-4052-8478-e2b30b55b284"
            },
            "text/plain": "StatementMeta(jksparkpool, 5, 1, Finished, Available)"
          },
          "metadata": {}
        },
        {
          "output_type": "display_data",
          "data": {
            "application/vnd.synapse.widget-view+json": {
              "widget_id": "2a83a986-a85d-4e3f-a99b-48acf767063a",
              "widget_type": "Synapse.DataFrame"
            },
            "text/plain": "SynapseWidget(Synapse.DataFrame, 2a83a986-a85d-4e3f-a99b-48acf767063a)"
          },
          "metadata": {}
        }
      ],
      "execution_count": 1,
      "metadata": {
        "collapsed": false
      }
    }
  ],
  "metadata": {
    "language_info": {
      "name": "python"
    },
    "kernelspec": {
      "name": "synapse_pyspark",
      "language": "Python",
      "display_name": "Synapse PySpark"
    },
    "kernel_info": {
      "name": "synapse_pyspark"
    },
    "save_output": true,
    "synapse_widget": {
      "version": "0.1",
      "state": {
        "2a83a986-a85d-4e3f-a99b-48acf767063a": {
          "type": "Synapse.DataFrame",
          "sync_state": {
            "table": {
              "rows": [
                {
                  "0": "n-B1AIuKmssBAAAAAAAAAA==",
                  "1": "1680879738",
                  "2": "driver-000001",
                  "3": "true",
                  "4": "10.02",
                  "5": "22",
                  "6": "device-000001",
                  "7": "2022-05-16T01:25:43.511Z",
                  "8": {
                    "latitude": 40.7831,
                    "longitude": 73.9712
                  },
                  "9": {
                    "latitude": 40.7931,
                    "longitude": 73.9512
                  },
                  "10": "903e232c-6c31-43e1-a2a2-891ec2aa3ee0",
                  "11": "\"00001f00-0000-0100-0000-6430307a0000\""
                },
                {
                  "0": "n-B1AIuKmssCAAAAAAAAAA==",
                  "1": "1680879834",
                  "2": "driver-000002",
                  "3": "false",
                  "4": "0.0",
                  "5": "0",
                  "6": "device-000002",
                  "7": "2022-05-16T01:25:43.515Z",
                  "8": {
                    "latitude": 40.6782,
                    "longitude": 73.9442
                  },
                  "9": {
                    "latitude": 40.6731,
                    "longitude": 73.9502
                  },
                  "10": "fe5f8404-3fdf-4595-86b3-1d1d7c3f4eb5",
                  "11": "\"00002100-0000-0100-0000-643030da0000\""
                },
                {
                  "0": "n-B1AIuKmssDAAAAAAAAAA==",
                  "1": "1680881523",
                  "2": "driver-000003",
                  "3": "true",
                  "4": "1.03",
                  "5": "5",
                  "6": "device-000003",
                  "7": "2022-05-16T01:25:43.517Z",
                  "8": {
                    "latitude": 40.8116,
                    "longitude": 73.9465
                  },
                  "9": {
                    "latitude": 40.8131,
                    "longitude": 73.9562
                  },
                  "10": "1b0aed2d-ad43-4d28-b57e-57b8095060b8",
                  "11": "\"00002500-0000-0100-0000-643037730000\""
                },
                {
                  "0": "n-B1AIuKmssEAAAAAAAAAA==",
                  "1": "1680881545",
                  "2": "driver-000004",
                  "3": "true",
                  "4": "2.01",
                  "5": "4",
                  "6": "device-000004",
                  "7": "2022-05-16T01:25:43.501Z",
                  "8": {
                    "latitude": 40.8448,
                    "longitude": 73.8648
                  },
                  "9": {
                    "latitude": 40.8431,
                    "longitude": 73.9122
                  },
                  "10": "d1480b18-255b-4696-92db-fe09a0f6440f",
                  "11": "\"00002600-0000-0100-0000-643037890000\""
                },
                {
                  "0": "n-B1AIuKmssFAAAAAAAAAA==",
                  "1": "1680881565",
                  "2": "driver-000005",
                  "3": "true",
                  "4": "20.8",
                  "5": "54",
                  "6": "device-000005",
                  "7": "2022-05-16T01:25:43.519Z",
                  "8": {
                    "latitude": 40.7282,
                    "longitude": 73.7949
                  },
                  "9": {
                    "latitude": 40.7231,
                    "longitude": 73.9412
                  },
                  "10": "d0d1f74b-802d-4563-a2a4-84505d7d854b",
                  "11": "\"00002700-0000-0100-0000-6430379d0000\""
                }
              ],
              "schema": [
                {
                  "key": "0",
                  "name": "_rid",
                  "type": "string"
                },
                {
                  "key": "1",
                  "name": "_ts",
                  "type": "bigint"
                },
                {
                  "key": "2",
                  "name": "driverId",
                  "type": "string"
                },
                {
                  "key": "3",
                  "name": "hired",
                  "type": "boolean"
                },
                {
                  "key": "4",
                  "name": "distanceToDestination",
                  "type": "double"
                },
                {
                  "key": "5",
                  "name": "timeToDestinationMins",
                  "type": "bigint"
                },
                {
                  "key": "6",
                  "name": "deviceId",
                  "type": "string"
                },
                {
                  "key": "7",
                  "name": "deviceTimestamp",
                  "type": "string"
                },
                {
                  "key": "8",
                  "name": "DeviceLocation",
                  "type": "StructType(StructField(latitude,DoubleType,true),StructField(longitude,DoubleType,true))"
                },
                {
                  "key": "9",
                  "name": "DestinationLocation",
                  "type": "StructType(StructField(latitude,DoubleType,true),StructField(longitude,DoubleType,true))"
                },
                {
                  "key": "10",
                  "name": "id",
                  "type": "string"
                },
                {
                  "key": "11",
                  "name": "_etag",
                  "type": "string"
                }
              ],
              "truncated": false
            },
            "isSummary": false,
            "language": "scala"
          },
          "persist_state": {
            "view": {
              "type": "details",
              "tableOptions": {},
              "chartOptions": {
                "chartType": "bar",
                "aggregationType": "sum",
                "categoryFieldKeys": [
                  "0"
                ],
                "seriesFieldKeys": [
                  "1"
                ],
                "isStacked": false
              }
            }
          }
        }
      }
    }
  },
  "nbformat": 4,
  "nbformat_minor": 2
}